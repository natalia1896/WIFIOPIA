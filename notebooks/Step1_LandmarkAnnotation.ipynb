{
 "cells": [
  {
   "cell_type": "code",
   "execution_count": 1,
   "id": "8b2c930c-c499-4b9f-a88d-b32b4b7f25e0",
   "metadata": {},
   "outputs": [],
   "source": [
    "# Import\n",
    "import os\n",
    "import sys\n",
    "import numpy as np\n",
    "import pandas as pd\n",
    "import cv2\n",
    "import imutils\n",
    "%matplotlib tk\n",
    "\n",
    "sys.path.append(\"../src\")\n",
    "\n",
    "from common import (\n",
    "    load_config,\n",
    "    setup_or_load_project, \n",
    "    iterate_experiments_filt,\n",
    "    create_folders,\n",
    "    def_folders)\n",
    "\n",
    "from transformation import (\n",
    "    process_single_experiment\n",
    ")"
   ]
  },
  {
   "cell_type": "code",
   "execution_count": 2,
   "id": "5a27629c-c75a-44be-8679-5a114a44b67c",
   "metadata": {},
   "outputs": [],
   "source": [
    "# Change the path here\n",
    "config_path=r\"D:\\Analysis_test\\config.yaml\""
   ]
  },
  {
   "cell_type": "code",
   "execution_count": 3,
   "id": "bc785523-588e-4e9f-aab8-437d9debc8a1",
   "metadata": {},
   "outputs": [
    {
     "name": "stdout",
     "output_type": "stream",
     "text": [
      "Processing experiment day: Example\n",
      "Found: exp=Example, mouse=m4433, state=Awake, protocol=RV-pulse09\n",
      "Processing: Example / m4433 / Awake / RV-pulse09\n"
     ]
    },
    {
     "name": "stdin",
     "output_type": "stream",
     "text": [
      "Enter 1 if the wavelengths are mixed up, or 0 otherwise:  0\n"
     ]
    },
    {
     "name": "stderr",
     "output_type": "stream",
     "text": [
      "C:\\NL\\Projects\\WIFIOPIA_git_v1\\notebooks\\../src\\transformation.py:212: FutureWarning: The behavior of DataFrame concatenation with empty or all-NA entries is deprecated. In a future version, this will no longer exclude empty or all-NA columns when determining the result dtypes. To retain the old behavior, exclude the relevant entries before the concat operation.\n",
      "  updated_df = pd.concat([old_info_df, info_df], ignore_index=True)\n"
     ]
    },
    {
     "name": "stdout",
     "output_type": "stream",
     "text": [
      "Found: exp=Example, mouse=m8j, state=Awake, protocol=RHL-90mkA\n",
      "Processing: Example / m8j / Awake / RHL-90mkA\n"
     ]
    },
    {
     "name": "stdin",
     "output_type": "stream",
     "text": [
      "Enter 1 if the wavelengths are mixed up, or 0 otherwise:  0\n"
     ]
    }
   ],
   "source": [
    "res_dir, info_dir, demonstr_dir, \\\n",
    "result_directory_stim, result_directory_masks = setup_or_load_project(\n",
    "    config_path=config_path,\n",
    "    create_func=create_folders,\n",
    "    def_func=def_folders)\n",
    "\n",
    "config = load_config(config_path)\n",
    "\n",
    "for img_dir, exp, mouse, state, protocol in iterate_experiments_filt(\n",
    "    config[\"all_exp_dir\"],\n",
    "    mice_to_include=config.get(\"mice_to_include\"),\n",
    "    protocols_to_include=config.get(\"protocols_to_include\"),\n",
    "    state_to_include=config.get(\"state_to_include\"),\n",
    "    exp_to_include=config.get(\"exp_to_include\")\n",
    "):\n",
    "    print(f\"Processing: {exp} / {mouse} / {state} / {protocol}\")\n",
    "    process_single_experiment(\n",
    "        img_dir, exp, mouse, protocol, state,\n",
    "        config=config,\n",
    "        info_dir=info_dir,\n",
    "        demonstr_dir=demonstr_dir,\n",
    "        image=config[\"image\"],\n",
    "        br_y=config[\"br_y\"]\n",
    "    )"
   ]
  }
 ],
 "metadata": {
  "kernelspec": {
   "display_name": "Python 3 (ipykernel)",
   "language": "python",
   "name": "python3"
  },
  "language_info": {
   "codemirror_mode": {
    "name": "ipython",
    "version": 3
   },
   "file_extension": ".py",
   "mimetype": "text/x-python",
   "name": "python",
   "nbconvert_exporter": "python",
   "pygments_lexer": "ipython3",
   "version": "3.12.11"
  }
 },
 "nbformat": 4,
 "nbformat_minor": 5
}
