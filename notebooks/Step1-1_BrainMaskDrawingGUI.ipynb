{
 "cells": [
  {
   "cell_type": "code",
   "execution_count": 1,
   "id": "3471341e-1f32-42f5-8b84-a45467bf86cb",
   "metadata": {},
   "outputs": [
    {
     "name": "stdout",
     "output_type": "stream",
     "text": [
      "Mask saved to: D:\\Analysis_test\\Main_analysis_2025-07-20\\Masks\\Mask_draw\\m4433_Example_RV-pulse09_Awake_mask_draw.hdf5\n",
      "Mask saved to: D:\\Analysis_test\\Main_analysis_2025-07-20\\Masks\\Mask_draw\\m8j_Example_RHL-90mkA_Awake_mask_draw.hdf5\n",
      "Curve_widget is deleted\n",
      "Curve_widget is deleted\n"
     ]
    }
   ],
   "source": [
    "import sys\n",
    "\n",
    "sys.path.append(\"../src\")\n",
    "from mask_drawer import run_gui\n",
    "run_gui()"
   ]
  }
 ],
 "metadata": {
  "kernelspec": {
   "display_name": "Python 3 (ipykernel)",
   "language": "python",
   "name": "python3"
  },
  "language_info": {
   "codemirror_mode": {
    "name": "ipython",
    "version": 3
   },
   "file_extension": ".py",
   "mimetype": "text/x-python",
   "name": "python",
   "nbconvert_exporter": "python",
   "pygments_lexer": "ipython3",
   "version": "3.12.11"
  }
 },
 "nbformat": 4,
 "nbformat_minor": 5
}
