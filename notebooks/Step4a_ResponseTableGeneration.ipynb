{
 "cells": [
  {
   "cell_type": "code",
   "execution_count": 1,
   "id": "3ba5a12d-1bef-44b3-af73-c0b0132329d6",
   "metadata": {},
   "outputs": [],
   "source": [
    "# Import\n",
    "import sys\n",
    "\n",
    "sys.path.append(\"../src\")\n",
    "from common import (\n",
    "    load_config,\n",
    "    setup_or_load_project, \n",
    "    iterate_experiments,\n",
    "    create_folders,\n",
    "    def_folders,\n",
    "    load_conv_results)\n",
    "from response_tabel_creator import process_experiment"
   ]
  },
  {
   "cell_type": "code",
   "execution_count": 2,
   "id": "f535c7b5-2f57-4ec2-81ec-d1ac105bf675",
   "metadata": {},
   "outputs": [],
   "source": [
    "# Change the path here\n",
    "config_path = r'D:\\Analysis_test\\config.yaml'\n",
    "config_stim_path = r'D:\\Analysis_test\\config_stim.yaml'"
   ]
  },
  {
   "cell_type": "code",
   "execution_count": 3,
   "id": "bd45fca3-de64-428d-9b20-d787e80469bc",
   "metadata": {},
   "outputs": [
    {
     "name": "stdout",
     "output_type": "stream",
     "text": [
      "Processing experiment day: Example\n",
      "Found: exp=Example, mouse=m4433, state=Awake, protocol=RV-pulse09\n",
      "[INFO] Processing: m4433_Example_RV-pulse09_Awake\n",
      "Found: exp=Example, mouse=m8j, state=Awake, protocol=RHL-90mkA\n",
      "[INFO] Processing: m8j_Example_RHL-90mkA_Awake\n"
     ]
    }
   ],
   "source": [
    "res_dir, info_dir, demonstr_dir, result_directory_stim,  result_directory_masks = setup_or_load_project(\n",
    "    config_path=config_path,\n",
    "    create_func=create_folders,\n",
    "    def_func=def_folders\n",
    ")\n",
    "\n",
    "config = load_config(config_path)\n",
    "stim_config = load_config(config_stim_path)\n",
    "for img_dir, exp, mouse, state, protocol in iterate_experiments(config[\"all_exp_dir\"]):\n",
    "    process_experiment(\n",
    "        img_dir, exp, mouse, state, protocol,\n",
    "        res_dir, result_directory_stim,\n",
    "        config=config,\n",
    "        stim_config=stim_config\n",
    "    )"
   ]
  }
 ],
 "metadata": {
  "kernelspec": {
   "display_name": "Python 3 (ipykernel)",
   "language": "python",
   "name": "python3"
  },
  "language_info": {
   "codemirror_mode": {
    "name": "ipython",
    "version": 3
   },
   "file_extension": ".py",
   "mimetype": "text/x-python",
   "name": "python",
   "nbconvert_exporter": "python",
   "pygments_lexer": "ipython3",
   "version": "3.12.11"
  }
 },
 "nbformat": 4,
 "nbformat_minor": 5
}
